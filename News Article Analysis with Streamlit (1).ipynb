{
 "cells": [
  {
   "cell_type": "code",
   "execution_count": 1,
   "id": "8f16f38f-18ad-4967-9b59-02aa6fa082dc",
   "metadata": {},
   "outputs": [],
   "source": [
    "import nltk\n",
    "import string\n",
    "import spacy\n",
    "import streamlit as st\n",
    "import matplotlib.pyplot as plt\n",
    "from nltk.corpus import stopwords\n",
    "from nltk.tokenize import word_tokenize\n",
    "from nltk.stem import WordNetLemmatizer\n",
    "from nltk import pos_tag"
   ]
  },
  {
   "cell_type": "code",
   "execution_count": 2,
   "id": "476a6c02-0f76-4198-a2ef-6206de27ae21",
   "metadata": {},
   "outputs": [],
   "source": [
    "# Article \n",
    "News_article = \"Tech Giants Apple Nlc and Amazon nlc Report Record Profits Amidst Global Economic Uncertainty. Article: In a surprise move, tech giants Apple and Amazon reported record profits in their latest quarterly earnings, defying expectations of a slowdown amidst global economic uncertainty. Apple's revenue soared to $83.0 billion, up 21% from the same period last year, driven by strong sales of its iPhone 13 series and growing demand for its services segment. Amazon's net sales jumped to $121.2 billion, a 22% increase year-over-year, fueled by the continued growth of its e-commerce platform and expanding cloud computing business. The impressive earnings reports from both companies sent their stocks soaring, with Apple's shares rising 5% and Amazon's shares gaining 7% in after-hours trading. Analysts attribute the companies' success to their ability to adapt to changing consumer behavior and invest in emerging technologies such as artificial intelligence and renewable energy.\""
   ]
  },
  {
   "cell_type": "markdown",
   "id": "a9865a0e-21ad-4190-9455-98aa24eb82c2",
   "metadata": {},
   "source": [
    "#### Exploratory Data Analysis"
   ]
  },
  {
   "cell_type": "code",
   "execution_count": 3,
   "id": "2ad61bda-22d2-4c57-b450-9afe51c8422a",
   "metadata": {},
   "outputs": [
    {
     "data": {
      "text/plain": [
       "\"Tech Giants Apple Nlc and Amazon nlc Report Record Profits Amidst Global Economic Uncertainty. Article: In a surprise move, tech giants Apple and Amazon reported record profits in their latest quarterly earnings, defying expectations of a slowdown amidst global economic uncertainty. Apple's revenue soared to $83.0 billion, up 21% from the same period last year, driven by strong sales of its iPhone 13 series and growing demand for its services segment. Amazon's net sales jumped to $121.2 billion, a 22% increase year-over-year, fueled by the continued growth of its e-commerce platform and expanding cloud computing business. The impressive earnings reports from both companies sent their stocks soaring, with Apple's shares rising 5% and Amazon's shares gaining 7% in after-hours trading. Analysts attribute the companies' success to their ability to adapt to changing consumer behavior and invest in emerging technologies such as artificial intelligence and renewable energy.\""
      ]
     },
     "execution_count": 3,
     "metadata": {},
     "output_type": "execute_result"
    }
   ],
   "source": [
    "News_article"
   ]
  },
  {
   "cell_type": "code",
   "execution_count": 4,
   "id": "bb8b39d6-c896-4f12-96c0-f1d3e2e0fc8b",
   "metadata": {},
   "outputs": [
    {
     "data": {
      "text/plain": [
       "['tech',\n",
       " 'giants',\n",
       " 'apple',\n",
       " 'nlc',\n",
       " 'amazon',\n",
       " 'nlc',\n",
       " 'report',\n",
       " 'record',\n",
       " 'profits',\n",
       " 'amidst',\n",
       " 'global',\n",
       " 'economic',\n",
       " 'uncertainty',\n",
       " 'article',\n",
       " 'surprise',\n",
       " 'move',\n",
       " 'tech',\n",
       " 'giants',\n",
       " 'apple',\n",
       " 'amazon',\n",
       " 'reported',\n",
       " 'record',\n",
       " 'profits',\n",
       " 'latest',\n",
       " 'quarterly',\n",
       " 'earnings',\n",
       " 'defying',\n",
       " 'expectations',\n",
       " 'slowdown',\n",
       " 'amidst',\n",
       " 'global',\n",
       " 'economic',\n",
       " 'uncertainty',\n",
       " 'apple',\n",
       " \"'s\",\n",
       " 'revenue',\n",
       " 'soared',\n",
       " '83.0',\n",
       " 'billion',\n",
       " '21',\n",
       " 'period',\n",
       " 'last',\n",
       " 'year',\n",
       " 'driven',\n",
       " 'strong',\n",
       " 'sales',\n",
       " 'iphone',\n",
       " '13',\n",
       " 'series',\n",
       " 'growing',\n",
       " 'demand',\n",
       " 'services',\n",
       " 'segment',\n",
       " 'amazon',\n",
       " \"'s\",\n",
       " 'net',\n",
       " 'sales',\n",
       " 'jumped',\n",
       " '121.2',\n",
       " 'billion',\n",
       " '22',\n",
       " 'increase',\n",
       " 'year-over-year',\n",
       " 'fueled',\n",
       " 'continued',\n",
       " 'growth',\n",
       " 'e-commerce',\n",
       " 'platform',\n",
       " 'expanding',\n",
       " 'cloud',\n",
       " 'computing',\n",
       " 'business',\n",
       " 'impressive',\n",
       " 'earnings',\n",
       " 'reports',\n",
       " 'companies',\n",
       " 'sent',\n",
       " 'stocks',\n",
       " 'soaring',\n",
       " 'apple',\n",
       " \"'s\",\n",
       " 'shares',\n",
       " 'rising',\n",
       " '5',\n",
       " 'amazon',\n",
       " \"'s\",\n",
       " 'shares',\n",
       " 'gaining',\n",
       " '7',\n",
       " 'after-hours',\n",
       " 'trading',\n",
       " 'analysts',\n",
       " 'attribute',\n",
       " 'companies',\n",
       " 'success',\n",
       " 'ability',\n",
       " 'adapt',\n",
       " 'changing',\n",
       " 'consumer',\n",
       " 'behavior',\n",
       " 'invest',\n",
       " 'emerging',\n",
       " 'technologies',\n",
       " 'artificial',\n",
       " 'intelligence',\n",
       " 'renewable',\n",
       " 'energy']"
      ]
     },
     "execution_count": 4,
     "metadata": {},
     "output_type": "execute_result"
    }
   ],
   "source": [
    "# tokenize article \n",
    "Tokens = word_tokenize(News_article)\n",
    "\n",
    "# convert word to lowercase\n",
    "lower_tokens = [token.lower() for token in Tokens]\n",
    "\n",
    "# Remove Punctuation\n",
    "no_punct = [char for char in lower_tokens if char not in string.punctuation]\n",
    "\n",
    "#Remove stopwords\n",
    "stop_words = set(stopwords.words('english'))\n",
    "article = [word for word in no_punct if word not in stop_words]\n",
    "article"
   ]
  },
  {
   "cell_type": "code",
   "execution_count": 5,
   "id": "9e94a240-33f2-419c-be7e-a62c2e79cb6e",
   "metadata": {},
   "outputs": [],
   "source": [
    "# Lemmatization\n",
    "lemmatizer = WordNetLemmatizer()\n",
    "lemmatize_word = [lemmatizer.lemmatize(word) for word in article]\n",
    "lemmatize_word\n",
    "#identify part of speech\n",
    "pos_tags = pos_tag(lemmatize_word)\n",
    "#pos_tags\n"
   ]
  },
  {
   "cell_type": "markdown",
   "id": "9ba1e8c4-658a-4dc5-b58c-44f6c5fc4dd9",
   "metadata": {},
   "source": [
    "#### Sentiment Analysis"
   ]
  },
  {
   "cell_type": "code",
   "execution_count": 6,
   "id": "9cf95db1-2ebf-4785-84e8-8debf99d2c79",
   "metadata": {},
   "outputs": [
    {
     "name": "stdout",
     "output_type": "stream",
     "text": [
      "Positive sentiment: 0.0\n",
      "Negative sentiment: 0.0\n",
      "Neutral sentiment: 1.0\n",
      "Compound sentiment: 0.0\n"
     ]
    }
   ],
   "source": [
    "from nltk.sentiment.vader import SentimentIntensityAnalyzer\n",
    "\n",
    "SIA = SentimentIntensityAnalyzer()\n",
    "sentiment_scores = SIA.polarity_scores(''.join(lemmatize_word))\n",
    "print(\"Positive sentiment:\", sentiment_scores['pos'])\n",
    "print(\"Negative sentiment:\", sentiment_scores['neg'])\n",
    "print(\"Neutral sentiment:\", sentiment_scores['neu'])\n",
    "print(\"Compound sentiment:\", sentiment_scores['compound'])\n"
   ]
  },
  {
   "cell_type": "code",
   "execution_count": 7,
   "id": "86307b2d-d418-4333-9771-ba03b4952db4",
   "metadata": {},
   "outputs": [
    {
     "name": "stderr",
     "output_type": "stream",
     "text": [
      "C:\\Users\\USER\\AppData\\Local\\Temp\\ipykernel_23892\\3153936820.py:13: UserWarning: FigureCanvasAgg is non-interactive, and thus cannot be shown\n",
      "  plt.show()\n"
     ]
    }
   ],
   "source": [
    "Positive = sentiment_scores['pos']\n",
    "Negative = sentiment_scores['neg']\n",
    "Neutral = sentiment_scores['neu']\n",
    "Compound = sentiment_scores['compound']\n",
    "\n",
    "Label = ['Positve', 'Negative', 'Neutral', 'Compound']\n",
    "Values = [Positive, Negative, Neutral, Compound]\n",
    "\n",
    "plt.bar(Label, Values)\n",
    "plt.xlabel('Sentiment')\n",
    "plt.ylabel('Scores')\n",
    "plt.title('Sentiment Analysis')\n",
    "plt.show()"
   ]
  },
  {
   "cell_type": "markdown",
   "id": "69696e8b-84d8-40a1-952b-a75e44ad02a2",
   "metadata": {},
   "source": [
    "#### Name Entity Recognition\n"
   ]
  },
  {
   "cell_type": "code",
   "execution_count": 8,
   "id": "5bab47d4-3cd9-4760-bfa5-49f2dfa0c892",
   "metadata": {},
   "outputs": [
    {
     "name": "stdout",
     "output_type": "stream",
     "text": [
      "apple nlc  |  ORG    Companies, agencies, institutions, etc.\n",
      "nlc  |  ORG    Companies, agencies, institutions, etc.\n",
      "quarterly  |  DATE    Absolute or relative dates or periods\n",
      "83.0 billion  |  MONEY    Monetary values, including unit\n",
      "21 period last year  |  DATE    Absolute or relative dates or periods\n",
      "13  |  CARDINAL    Numerals that do not fall under another type\n",
      "121.2 billion  |  MONEY    Monetary values, including unit\n",
      "22  |  CARDINAL    Numerals that do not fall under another type\n",
      "year-over-year  |  DATE    Absolute or relative dates or periods\n",
      "5  |  CARDINAL    Numerals that do not fall under another type\n",
      "7 after-hours  |  TIME    Times smaller than a day\n"
     ]
    }
   ],
   "source": [
    "Nlp = spacy.load(\"en_core_web_sm\")\n",
    "\n",
    "news_article = Nlp(' '.join(lemmatize_word))\n",
    "\n",
    "for ent in news_article.ents:\n",
    "    print(ent.text, \" | \", ent.label_,\"  \", spacy.explain(ent.label_))"
   ]
  },
  {
   "cell_type": "code",
   "execution_count": null,
   "id": "a1e7250c-2d4a-4c65-922b-00a21d463830",
   "metadata": {},
   "outputs": [
    {
     "name": "stderr",
     "output_type": "stream",
     "text": [
      "C:\\ProgramData\\anaconda3\\Lib\\site-packages\\spacy\\displacy\\__init__.py:106: UserWarning: [W011] It looks like you're calling displacy.serve from within a Jupyter notebook or a similar environment. This likely means you're already running a local web server, so there's no need to make displaCy start another one. Instead, you should be able to replace displacy.serve with displacy.render to show the visualization.\n",
      "  warnings.warn(Warnings.W011)\n"
     ]
    },
    {
     "data": {
      "text/html": [
       "<span class=\"tex2jax_ignore\"><!DOCTYPE html>\n",
       "<html lang=\"en\">\n",
       "    <head>\n",
       "        <title>displaCy</title>\n",
       "    </head>\n",
       "\n",
       "    <body style=\"font-size: 16px; font-family: -apple-system, BlinkMacSystemFont, 'Segoe UI', Helvetica, Arial, sans-serif, 'Apple Color Emoji', 'Segoe UI Emoji', 'Segoe UI Symbol'; padding: 4rem 2rem; direction: ltr\">\n",
       "<figure style=\"margin-bottom: 6rem\">\n",
       "<div class=\"entities\" style=\"line-height: 2.5; direction: ltr\">tech giant \n",
       "<mark class=\"entity\" style=\"background: #7aecec; padding: 0.45em 0.6em; margin: 0 0.25em; line-height: 1; border-radius: 0.35em;\">\n",
       "    apple nlc\n",
       "    <span style=\"font-size: 0.8em; font-weight: bold; line-height: 1; border-radius: 0.35em; vertical-align: middle; margin-left: 0.5rem\">ORG</span>\n",
       "</mark>\n",
       " amazon \n",
       "<mark class=\"entity\" style=\"background: #7aecec; padding: 0.45em 0.6em; margin: 0 0.25em; line-height: 1; border-radius: 0.35em;\">\n",
       "    nlc\n",
       "    <span style=\"font-size: 0.8em; font-weight: bold; line-height: 1; border-radius: 0.35em; vertical-align: middle; margin-left: 0.5rem\">ORG</span>\n",
       "</mark>\n",
       " report record profit amidst global economic uncertainty article surprise move tech giant apple amazon reported record profit latest \n",
       "<mark class=\"entity\" style=\"background: #bfe1d9; padding: 0.45em 0.6em; margin: 0 0.25em; line-height: 1; border-radius: 0.35em;\">\n",
       "    quarterly\n",
       "    <span style=\"font-size: 0.8em; font-weight: bold; line-height: 1; border-radius: 0.35em; vertical-align: middle; margin-left: 0.5rem\">DATE</span>\n",
       "</mark>\n",
       " earnings defying expectation slowdown amidst global economic uncertainty apple 's revenue soared \n",
       "<mark class=\"entity\" style=\"background: #e4e7d2; padding: 0.45em 0.6em; margin: 0 0.25em; line-height: 1; border-radius: 0.35em;\">\n",
       "    83.0 billion\n",
       "    <span style=\"font-size: 0.8em; font-weight: bold; line-height: 1; border-radius: 0.35em; vertical-align: middle; margin-left: 0.5rem\">MONEY</span>\n",
       "</mark>\n",
       " \n",
       "<mark class=\"entity\" style=\"background: #bfe1d9; padding: 0.45em 0.6em; margin: 0 0.25em; line-height: 1; border-radius: 0.35em;\">\n",
       "    21 period last year\n",
       "    <span style=\"font-size: 0.8em; font-weight: bold; line-height: 1; border-radius: 0.35em; vertical-align: middle; margin-left: 0.5rem\">DATE</span>\n",
       "</mark>\n",
       " driven strong sale iphone \n",
       "<mark class=\"entity\" style=\"background: #e4e7d2; padding: 0.45em 0.6em; margin: 0 0.25em; line-height: 1; border-radius: 0.35em;\">\n",
       "    13\n",
       "    <span style=\"font-size: 0.8em; font-weight: bold; line-height: 1; border-radius: 0.35em; vertical-align: middle; margin-left: 0.5rem\">CARDINAL</span>\n",
       "</mark>\n",
       " series growing demand service segment amazon 's net sale jumped \n",
       "<mark class=\"entity\" style=\"background: #e4e7d2; padding: 0.45em 0.6em; margin: 0 0.25em; line-height: 1; border-radius: 0.35em;\">\n",
       "    121.2 billion\n",
       "    <span style=\"font-size: 0.8em; font-weight: bold; line-height: 1; border-radius: 0.35em; vertical-align: middle; margin-left: 0.5rem\">MONEY</span>\n",
       "</mark>\n",
       " \n",
       "<mark class=\"entity\" style=\"background: #e4e7d2; padding: 0.45em 0.6em; margin: 0 0.25em; line-height: 1; border-radius: 0.35em;\">\n",
       "    22\n",
       "    <span style=\"font-size: 0.8em; font-weight: bold; line-height: 1; border-radius: 0.35em; vertical-align: middle; margin-left: 0.5rem\">CARDINAL</span>\n",
       "</mark>\n",
       " increase \n",
       "<mark class=\"entity\" style=\"background: #bfe1d9; padding: 0.45em 0.6em; margin: 0 0.25em; line-height: 1; border-radius: 0.35em;\">\n",
       "    year-over-year\n",
       "    <span style=\"font-size: 0.8em; font-weight: bold; line-height: 1; border-radius: 0.35em; vertical-align: middle; margin-left: 0.5rem\">DATE</span>\n",
       "</mark>\n",
       " fueled continued growth e-commerce platform expanding cloud computing business impressive earnings report company sent stock soaring apple 's share rising \n",
       "<mark class=\"entity\" style=\"background: #e4e7d2; padding: 0.45em 0.6em; margin: 0 0.25em; line-height: 1; border-radius: 0.35em;\">\n",
       "    5\n",
       "    <span style=\"font-size: 0.8em; font-weight: bold; line-height: 1; border-radius: 0.35em; vertical-align: middle; margin-left: 0.5rem\">CARDINAL</span>\n",
       "</mark>\n",
       " amazon 's share gaining \n",
       "<mark class=\"entity\" style=\"background: #bfe1d9; padding: 0.45em 0.6em; margin: 0 0.25em; line-height: 1; border-radius: 0.35em;\">\n",
       "    7 after-hours\n",
       "    <span style=\"font-size: 0.8em; font-weight: bold; line-height: 1; border-radius: 0.35em; vertical-align: middle; margin-left: 0.5rem\">TIME</span>\n",
       "</mark>\n",
       " trading analyst attribute company success ability adapt changing consumer behavior invest emerging technology artificial intelligence renewable energy</div>\n",
       "</figure>\n",
       "</body>\n",
       "</html></span>"
      ],
      "text/plain": [
       "<IPython.core.display.HTML object>"
      ]
     },
     "metadata": {},
     "output_type": "display_data"
    },
    {
     "name": "stdout",
     "output_type": "stream",
     "text": [
      "\n",
      "Using the 'ent' visualizer\n",
      "Serving on http://0.0.0.0:5000 ...\n",
      "\n"
     ]
    }
   ],
   "source": [
    "from spacy import displacy\n",
    "\n",
    "# Visualize entities\n",
    "displacy.serve(news_article, style=\"ent\", auto_select_port=True)\n"
   ]
  },
  {
   "cell_type": "code",
   "execution_count": null,
   "id": "fec4fa26-dd42-441c-9cfb-899a6abc00d6",
   "metadata": {},
   "outputs": [],
   "source": []
  },
  {
   "cell_type": "code",
   "execution_count": null,
   "id": "628bfb48-0f2a-4053-ad51-cbcfd2f6cd06",
   "metadata": {},
   "outputs": [],
   "source": []
  },
  {
   "cell_type": "code",
   "execution_count": null,
   "id": "ab7dfa64-a0d6-46d2-886d-f9ff7a4952c5",
   "metadata": {},
   "outputs": [],
   "source": []
  },
  {
   "cell_type": "code",
   "execution_count": null,
   "id": "3f4e3d46-3444-4bab-b969-af6c3e93b516",
   "metadata": {},
   "outputs": [],
   "source": []
  },
  {
   "cell_type": "code",
   "execution_count": null,
   "id": "3cc8b110-fd17-45ce-8c64-94aeb72dffcd",
   "metadata": {},
   "outputs": [],
   "source": []
  }
 ],
 "metadata": {
  "kernelspec": {
   "display_name": "Python 3 (ipykernel)",
   "language": "python",
   "name": "python3"
  },
  "language_info": {
   "codemirror_mode": {
    "name": "ipython",
    "version": 3
   },
   "file_extension": ".py",
   "mimetype": "text/x-python",
   "name": "python",
   "nbconvert_exporter": "python",
   "pygments_lexer": "ipython3",
   "version": "3.11.7"
  }
 },
 "nbformat": 4,
 "nbformat_minor": 5
}
